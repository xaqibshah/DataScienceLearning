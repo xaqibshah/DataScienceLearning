{
 "cells": [
  {
   "cell_type": "code",
   "execution_count": 6,
   "metadata": {},
   "outputs": [
    {
     "ename": "ModuleNotFoundError",
     "evalue": "No module named 'skimpy'",
     "output_type": "error",
     "traceback": [
      "\u001b[1;31m---------------------------------------------------------------------------\u001b[0m",
      "\u001b[1;31mModuleNotFoundError\u001b[0m                       Traceback (most recent call last)",
      "\u001b[1;32mc:\\Users\\xaqibshah\\Desktop\\DataScienceLearning\\Python_Ka_Chilla\\pandas\\skimpy01.ipynb Cell 1\u001b[0m line \u001b[0;36m3\n\u001b[0;32m      <a href='vscode-notebook-cell:/c%3A/Users/xaqibshah/Desktop/DataScienceLearning/Python_Ka_Chilla/pandas/skimpy01.ipynb#W2sZmlsZQ%3D%3D?line=0'>1</a>\u001b[0m \u001b[39mimport\u001b[39;00m \u001b[39mpandas\u001b[39;00m \u001b[39mas\u001b[39;00m \u001b[39mpd\u001b[39;00m\n\u001b[0;32m      <a href='vscode-notebook-cell:/c%3A/Users/xaqibshah/Desktop/DataScienceLearning/Python_Ka_Chilla/pandas/skimpy01.ipynb#W2sZmlsZQ%3D%3D?line=1'>2</a>\u001b[0m \u001b[39mimport\u001b[39;00m \u001b[39mseaborn\u001b[39;00m \u001b[39mas\u001b[39;00m \u001b[39msns\u001b[39;00m\n\u001b[1;32m----> <a href='vscode-notebook-cell:/c%3A/Users/xaqibshah/Desktop/DataScienceLearning/Python_Ka_Chilla/pandas/skimpy01.ipynb#W2sZmlsZQ%3D%3D?line=2'>3</a>\u001b[0m \u001b[39mfrom\u001b[39;00m \u001b[39mskimpy\u001b[39;00m \u001b[39mimport\u001b[39;00m skim\n\u001b[0;32m      <a href='vscode-notebook-cell:/c%3A/Users/xaqibshah/Desktop/DataScienceLearning/Python_Ka_Chilla/pandas/skimpy01.ipynb#W2sZmlsZQ%3D%3D?line=3'>4</a>\u001b[0m df \u001b[39m=\u001b[39m pd\u001b[39m.\u001b[39mread_csv(\u001b[39m'\u001b[39m\u001b[39mdata/iris.csv\u001b[39m\u001b[39m'\u001b[39m)\n\u001b[0;32m      <a href='vscode-notebook-cell:/c%3A/Users/xaqibshah/Desktop/DataScienceLearning/Python_Ka_Chilla/pandas/skimpy01.ipynb#W2sZmlsZQ%3D%3D?line=4'>5</a>\u001b[0m skim(df)\n",
      "\u001b[1;31mModuleNotFoundError\u001b[0m: No module named 'skimpy'"
     ]
    }
   ],
   "source": [
    "import pandas as pd\n",
    "import seaborn as sns\n",
    "from skimpy import skim\n",
    "df = pd.read_csv('data/iris.csv')\n",
    "skim(df)"
   ]
  }
 ],
 "metadata": {
  "kernelspec": {
   "display_name": "skimpy",
   "language": "python",
   "name": "python3"
  },
  "language_info": {
   "codemirror_mode": {
    "name": "ipython",
    "version": 3
   },
   "file_extension": ".py",
   "mimetype": "text/x-python",
   "name": "python",
   "nbconvert_exporter": "python",
   "pygments_lexer": "ipython3",
   "version": "3.12.0"
  }
 },
 "nbformat": 4,
 "nbformat_minor": 2
}
