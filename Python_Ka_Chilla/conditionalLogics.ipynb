{
 "cells": [
  {
   "cell_type": "code",
   "execution_count": 5,
   "metadata": {},
   "outputs": [
    {
     "name": "stdout",
     "output_type": "stream",
     "text": [
      "<class 'str'>\n",
      "<class 'int'>\n",
      "True\n"
     ]
    }
   ],
   "source": [
    "# logical operators are either \"True of false, Yes or not or 0 or 1\"\n",
    "# equal to                =\n",
    "# less than               <\n",
    "# greater then            >\n",
    "# not equal to             !=\n",
    "# less or equal           <=\n",
    "# greater or equal        >=\n",
    "\n",
    "# print(4==5)\n",
    "# print(4==4)\n",
    "# print(3<5)\n",
    "# print(5>8)\n",
    "# print(2!=1)\n",
    "\n",
    "age_at_school = 5\n",
    "hammad_age = input(\"what is hammad age\")\n",
    "print(type(hammad_age))\n",
    "hammad_age = int(hammad_age)\n",
    "print(type(hammad_age))\n",
    "print(hammad_age==age_at_school)\n"
   ]
  }
 ],
 "metadata": {
  "kernelspec": {
   "display_name": "Python 3",
   "language": "python",
   "name": "python3"
  },
  "language_info": {
   "codemirror_mode": {
    "name": "ipython",
    "version": 3
   },
   "file_extension": ".py",
   "mimetype": "text/x-python",
   "name": "python",
   "nbconvert_exporter": "python",
   "pygments_lexer": "ipython3",
   "version": "3.11.5"
  },
  "orig_nbformat": 4
 },
 "nbformat": 4,
 "nbformat_minor": 2
}
