{
 "cells": [
  {
   "cell_type": "code",
   "execution_count": 3,
   "metadata": {},
   "outputs": [
    {
     "name": "stdout",
     "output_type": "stream",
     "text": [
      "Hello!  saqib Your age is  1\n"
     ]
    }
   ],
   "source": [
    "\n",
    "name = input(\"enter your name? \")\n",
    "# print(\"Hello!\", name)\n",
    "age = input(\"how old are you? \")\n",
    "\n",
    "greetings = \"Hello! \"\n",
    "\n",
    "# print(greetings, name, \"you are still young\")\n",
    "\n",
    "print(greetings, name, \"Your age is \", age)"
   ]
  }
 ],
 "metadata": {
  "kernelspec": {
   "display_name": "Python 3",
   "language": "python",
   "name": "python3"
  },
  "language_info": {
   "codemirror_mode": {
    "name": "ipython",
    "version": 3
   },
   "file_extension": ".py",
   "mimetype": "text/x-python",
   "name": "python",
   "nbconvert_exporter": "python",
   "pygments_lexer": "ipython3",
   "version": "3.11.5"
  },
  "orig_nbformat": 4
 },
 "nbformat": 4,
 "nbformat_minor": 2
}
